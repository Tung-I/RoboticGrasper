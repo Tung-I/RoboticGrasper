{
 "cells": [
  {
   "cell_type": "code",
   "execution_count": 1,
   "metadata": {},
   "outputs": [],
   "source": [
    "import pybullet as p\n",
    "import matplotlib.pyplot as plt\n",
    "import matplotlib.patches as patches\n",
    "import numpy as np"
   ]
  },
  {
   "cell_type": "code",
   "execution_count": 2,
   "metadata": {},
   "outputs": [],
   "source": [
    "p.connect(p.DIRECT)\n",
    "import pybullet_data\n",
    "p.setAdditionalSearchPath(pybullet_data.getDataPath())\n",
    "planeId = p.loadURDF('plane.urdf')"
   ]
  },
  {
   "cell_type": "code",
   "execution_count": 54,
   "metadata": {},
   "outputs": [
    {
     "data": {
      "text/plain": [
       "(1.0,\n",
       " 0.0,\n",
       " -0.0,\n",
       " 0.0,\n",
       " -0.0,\n",
       " 0.9805806875228882,\n",
       " 0.1961161345243454,\n",
       " 0.0,\n",
       " 0.0,\n",
       " -0.1961161345243454,\n",
       " 0.9805806875228882,\n",
       " 0.0,\n",
       " -0.0,\n",
       " -0.0,\n",
       " -5.099019527435303,\n",
       " 1.0)"
      ]
     },
     "execution_count": 54,
     "metadata": {},
     "output_type": "execute_result"
    }
   ],
   "source": [
    "viewMatrix = p.computeViewMatrix(\n",
    "    cameraEyePosition=[0, 1, 5],\n",
    "    cameraTargetPosition=[0, 0, 0],\n",
    "    cameraUpVector=[0, 1, 0])\n",
    "viewMatrix"
   ]
  },
  {
   "cell_type": "code",
   "execution_count": 55,
   "metadata": {},
   "outputs": [],
   "source": [
    "projectionMatrix = p.computeProjectionMatrixFOV(\n",
    "    fov=45.0,\n",
    "    aspect=1.0,\n",
    "    nearVal=0.1,\n",
    "    farVal=99999)"
   ]
  },
  {
   "cell_type": "code",
   "execution_count": 56,
   "metadata": {},
   "outputs": [],
   "source": [
    "width, height, rgbImg, depthImg, segImg = p.getCameraImage(\n",
    "    width=224, \n",
    "    height=224,\n",
    "    viewMatrix=viewMatrix,\n",
    "    projectionMatrix=projectionMatrix) "
   ]
  },
  {
   "cell_type": "code",
   "execution_count": 57,
   "metadata": {},
   "outputs": [
    {
     "data": {
      "text/plain": [
       "<matplotlib.image.AxesImage at 0x7f415323cb00>"
      ]
     },
     "execution_count": 57,
     "metadata": {},
     "output_type": "execute_result"
    },
    {
     "data": {
      "image/png": "[encoded data removed]",
      "text/plain": [
       "<Figure size 432x288 with 1 Axes>"
      ]
     },
     "metadata": {
      "needs_background": "light"
     },
     "output_type": "display_data"
    }
   ],
   "source": [
    "plt.imshow(rgbImg)"
   ]
  },
  {
   "cell_type": "code",
   "execution_count": 27,
   "metadata": {},
   "outputs": [
    {
     "data": {
      "text/plain": [
       "<matplotlib.image.AxesImage at 0x7f205190eeb8>"
      ]
     },
     "execution_count": 27,
     "metadata": {},
     "output_type": "execute_result"
    },
    {
     "data": {
      "image/png": "[encoded data removed]",
      "text/plain": [
       "<Figure size 432x288 with 1 Axes>"
      ]
     },
     "metadata": {
      "needs_background": "light"
     },
     "output_type": "display_data"
    }
   ],
   "source": [
    "plt.imshow(rgbImg)"
   ]
  },
  {
   "cell_type": "code",
   "execution_count": 10,
   "metadata": {},
   "outputs": [
    {
     "data": {
      "image/png": "[encoded data removed]",
      "text/plain": [
       "<Figure size 432x288 with 1 Axes>"
      ]
     },
     "metadata": {
      "needs_background": "light"
     },
     "output_type": "display_data"
    }
   ],
   "source": [
    "def plot_box(img, top_left, right_bot):\n",
    "    fig, ax = plt.subplots(1)\n",
    "    x, y = top_left\n",
    "    w, h = right_bot[0] - x, right_bot[1] - y\n",
    "    \n",
    "    rect = patches.Rectangle((x, y), w, h,linewidth=1,edgecolor='r',facecolor='none')\n",
    "    ax.imshow(img)\n",
    "    ax.add_patch(rect)\n",
    "    plt.show()\n",
    "plot_box(rgbImg, (50, 80), (60, 100))"
   ]
  },
  {
   "cell_type": "code",
   "execution_count": 60,
   "metadata": {},
   "outputs": [
    {
     "name": "stdout",
     "output_type": "stream",
     "text": [
      "[[ 1.          0.         -0.          0.        ]\n",
      " [-0.          0.98058069  0.19611613  0.        ]\n",
      " [ 0.         -0.19611613  0.98058069  0.        ]\n",
      " [-0.         -0.         -5.09901953  1.        ]]\n",
      "[[ 2.41421342  0.          0.          0.        ]\n",
      " [ 0.          2.41421342  0.          0.        ]\n",
      " [ 0.          0.         -1.00000203 -1.        ]\n",
      " [ 0.          0.         -0.20000021  0.        ]]\n",
      "[ 1.          0.         -5.09901953  1.        ]\n",
      "[2.41421342 0.         4.89902965 5.09901953]\n",
      "167.19295090658858 112.0\n"
     ]
    },
    {
     "data": {
      "image/png": "[encoded data removed]",
      "text/plain": [
       "<Figure size 432x288 with 1 Axes>"
      ]
     },
     "metadata": {
      "needs_background": "light"
     },
     "output_type": "display_data"
    }
   ],
   "source": [
    "def test(xyz, viewMatrix, projectionMatrix):\n",
    "    xyz = np.concatenate([xyz, np.array([1.])])\n",
    "    viewMatrix = np.array(viewMatrix).reshape(4, 4)\n",
    "#     viewMatrix = np.linalg.inv(viewMatrix)\n",
    "    projectionMatrix = np.array(projectionMatrix).reshape(4, 4)\n",
    "    print(viewMatrix)\n",
    "    print(projectionMatrix)\n",
    "    xyz = np.dot(xyz, viewMatrix)\n",
    "    print(xyz)\n",
    "    xyz = np.dot(xyz, projectionMatrix)\n",
    "    print(xyz)\n",
    "    u, v, z = xyz[:3]\n",
    "#     u = u / z * 224 + 224 / 2\n",
    "#     v = (1 - v / z) * 224 - 224/ 2\n",
    "    u = u / z * 224 / 2 + 224 / 2\n",
    "    v = (1 - v / z) * 224 / 2\n",
    "    print(u, v)\n",
    "    plot_box(rgbImg, (u, v), (u+10, v+10))\n",
    "\n",
    "test(np.array([1, 0, 0.]), viewMatrix, projectionMatrix)"
   ]
  },
  {
   "cell_type": "code",
   "execution_count": 38,
   "metadata": {},
   "outputs": [],
   "source": [
    "# p.loadURDF('./shrunk_random_urdfs/000/000.urdf', basePosition=[0, 0, 0])\n",
    "file_path = '/home/tony/datasets/ShapeNet_subset/car/10555502fa7b3027283ffcfc40c29975/models/model_normalized.obj'\n",
    "visualShapeId = p.createVisualShape(\n",
    "    shapeType=p.GEOM_MESH,\n",
    "    fileName=file_path,\n",
    "    rgbaColor=None,\n",
    "    meshScale=[1, 1, 1])\n",
    "collisionShapeId = p.createCollisionShape(\n",
    "    shapeType=p.GEOM_MESH,\n",
    "    fileName=file_path,\n",
    "    meshScale=[1, 1, 1])\n",
    "multiBodyId = p.createMultiBody(\n",
    "    baseMass=1.0,\n",
    "    baseCollisionShapeIndex=collisionShapeId, \n",
    "    baseVisualShapeIndex=visualShapeId,\n",
    "    basePosition=[0, 1, 0],\n",
    "    baseOrientation=p.getQuaternionFromEuler([0, 0, 0]))"
   ]
  },
  {
   "cell_type": "code",
   "execution_count": null,
   "metadata": {},
   "outputs": [],
   "source": []
  }
 ],
 "metadata": {
  "kernelspec": {
   "display_name": "Python 3",
   "language": "python",
   "name": "python3"
  },
  "language_info": {
   "codemirror_mode": {
    "name": "ipython",
    "version": 3
   },
   "file_extension": ".py",
   "mimetype": "text/x-python",
   "name": "python",
   "nbconvert_exporter": "python",
   "pygments_lexer": "ipython3",
   "version": "3.7.3"
  }
 },
 "nbformat": 4,
 "nbformat_minor": 2
}
